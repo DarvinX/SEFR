{
  "nbformat": 4,
  "nbformat_minor": 0,
  "metadata": {
    "colab": {
      "name": "sefr.ipynb",
      "provenance": [],
      "collapsed_sections": [],
      "authorship_tag": "ABX9TyNrNW38uIKFMMB3vwXCp3Ne",
      "include_colab_link": true
    },
    "kernelspec": {
      "name": "python3",
      "display_name": "Python 3"
    },
    "language_info": {
      "name": "python"
    }
  },
  "cells": [
    {
      "cell_type": "markdown",
      "metadata": {
        "id": "view-in-github",
        "colab_type": "text"
      },
      "source": [
        "<a href=\"https://colab.research.google.com/github/DarvinX/SEFR/blob/main/sefr.ipynb\" target=\"_parent\"><img src=\"https://colab.research.google.com/assets/colab-badge.svg\" alt=\"Open In Colab\"/></a>"
      ]
    },
    {
      "cell_type": "code",
      "metadata": {
        "colab": {
          "base_uri": "https://localhost:8080/"
        },
        "id": "ayDTx8LIAc62",
        "outputId": "2eb92498-6f86-499e-fac3-0df57030f722"
      },
      "source": [
        "!pip install sefr"
      ],
      "execution_count": 1,
      "outputs": [
        {
          "output_type": "stream",
          "name": "stdout",
          "text": [
            "Collecting sefr\n",
            "  Downloading sefr-1.0.2.tar.gz (1.8 kB)\n",
            "Requirement already satisfied: numpy in /usr/local/lib/python3.7/dist-packages (from sefr) (1.19.5)\n",
            "Building wheels for collected packages: sefr\n",
            "  Building wheel for sefr (setup.py) ... \u001b[?25l\u001b[?25hdone\n",
            "  Created wheel for sefr: filename=sefr-1.0.2-py3-none-any.whl size=2493 sha256=751fa5745c8efbbfbf2addb6644ee9f5d04a8de813b0a8d39bed2b9a6c67a6bf\n",
            "  Stored in directory: /root/.cache/pip/wheels/96/54/23/770e6ca91c9e0f291d4d8ec0591e3a0d886c13d1034e927329\n",
            "Successfully built sefr\n",
            "Installing collected packages: sefr\n",
            "Successfully installed sefr-1.0.2\n"
          ]
        }
      ]
    },
    {
      "cell_type": "code",
      "metadata": {
        "colab": {
          "base_uri": "https://localhost:8080/"
        },
        "id": "t-fsdz-JAj45",
        "outputId": "51b55e2b-b433-4d5f-cd71-aef8edaa57a9"
      },
      "source": [
        "!pip install micromlgen"
      ],
      "execution_count": 2,
      "outputs": [
        {
          "output_type": "stream",
          "name": "stdout",
          "text": [
            "Collecting micromlgen\n",
            "  Downloading micromlgen-1.1.25.tar.gz (11 kB)\n",
            "Requirement already satisfied: jinja2 in /usr/local/lib/python3.7/dist-packages (from micromlgen) (2.11.3)\n",
            "Requirement already satisfied: MarkupSafe>=0.23 in /usr/local/lib/python3.7/dist-packages (from jinja2->micromlgen) (2.0.1)\n",
            "Building wheels for collected packages: micromlgen\n",
            "  Building wheel for micromlgen (setup.py) ... \u001b[?25l\u001b[?25hdone\n",
            "  Created wheel for micromlgen: filename=micromlgen-1.1.25-py3-none-any.whl size=29265 sha256=23edad1611fc606b5b9dd8a584039dcb4aea1aea6d8587b4a22fcb89da43df23\n",
            "  Stored in directory: /root/.cache/pip/wheels/4c/04/0b/b9c3c8a2b292df181c153640d8fde4b8c280c22a3afbcebd0c\n",
            "Successfully built micromlgen\n",
            "Installing collected packages: micromlgen\n",
            "Successfully installed micromlgen-1.1.25\n"
          ]
        }
      ]
    },
    {
      "cell_type": "code",
      "metadata": {
        "id": "g8B_hO7hAut-"
      },
      "source": [
        "import numpy as np\n",
        "from glob import glob\n",
        "from os.path import basename\n",
        "\n",
        "def load_features(folder):\n",
        "    dataset = None\n",
        "    classmap = {}\n",
        "    for class_idx, filename in enumerate(glob('%s/*.csv' % folder)):\n",
        "        class_name = basename(filename)[:-4]\n",
        "        classmap[class_idx] = class_name\n",
        "        samples = np.loadtxt(filename, dtype=float, delimiter=',')\n",
        "        labels = np.ones((len(samples), 1)) * class_idx\n",
        "        samples = np.hstack((samples, labels))\n",
        "        dataset = samples if dataset is None else np.vstack((dataset, samples))\n",
        "\n",
        "    return dataset, classmap"
      ],
      "execution_count": 3,
      "outputs": []
    },
    {
      "cell_type": "code",
      "metadata": {
        "colab": {
          "base_uri": "https://localhost:8080/"
        },
        "id": "UR04KZXGBnjX",
        "outputId": "aab7c1f9-ac9e-4185-ff8a-d2c2b885333a"
      },
      "source": [
        "from sefr import SEFR\n",
        "from micromlgen import port\n",
        "from sklearn.model_selection import train_test_split\n",
        "from sklearn.ensemble import RandomForestClassifier\n",
        "from sklearn.svm import SVC\n",
        "\n",
        "# put your samples in the dataset folder\n",
        "# one class per file\n",
        "# one feature vector per line, in CSV format\n",
        "features, classmap = load_features('dataset/')\n",
        "\n",
        "X, y = features[:, :-1], features[:, -1]\n",
        "\n",
        "# Normalise\n",
        "for i in range(len(X)):\n",
        "  mx = max(X[i])\n",
        "  mn = min(X[i])\n",
        "  denom = mx-mn\n",
        "  for j in range(len(X[i])):\n",
        "    X[i][j] = (X[i][j] - mn)/denom\n",
        "\n",
        "print(X)\n",
        "print(y)\n",
        "# X_train, X_test, y_train, y_test = train_test_split(X, y, test_size=0.1)\n",
        "clf = SEFR()\n",
        "# clf = RandomForestClassifier(n_estimators=25, max_depth=10)\n",
        "# clf = SVC(kernel='linear', gamma=0.001)\n",
        "\n",
        "# print(clf.fit(X_train, y_train))\n",
        "clf.fit(X, y)\n",
        "\n",
        "# predicted = clf.predict(X_test)\n",
        "# for i in range(len(y_test)):\n",
        "#   print(int(y_test[i]), predicted[i])\n",
        "# print('accuracy', (predicted == y_test).sum() / len(y_test))"
      ],
      "execution_count": 135,
      "outputs": [
        {
          "output_type": "stream",
          "name": "stdout",
          "text": [
            "[[0.60784314 0.59577677 0.55957768 ... 0.58371041 0.58371041 0.58371041]\n",
            " [0.69       0.69       0.61       ... 0.63666667 0.63666667 0.63666667]\n",
            " [0.44308943 0.44308943 0.42682927 ... 0.42682927 0.42682927 0.44308943]\n",
            " ...\n",
            " [0.44       0.44       0.44       ... 0.43058824 0.43058824 0.44      ]\n",
            " [0.55172414 0.55172414 0.52873563 ... 0.52873563 0.52873563 0.52873563]\n",
            " [0.49595687 0.4851752  0.49595687 ... 0.4851752  0.49595687 0.4851752 ]]\n",
            "[0. 0. 0. 0. 0. 0. 0. 0. 0. 0. 0. 0. 0. 0. 0. 0. 0. 0. 0. 1. 1. 1. 1. 1.\n",
            " 1. 1. 1. 1. 1. 1. 1. 1. 1. 1. 1. 1. 1. 1. 1. 1. 1. 1. 1. 1.]\n"
          ]
        }
      ]
    },
    {
      "cell_type": "code",
      "metadata": {
        "id": "H9dquTi3BuvW",
        "colab": {
          "base_uri": "https://localhost:8080/"
        },
        "outputId": "27fff863-a152-486d-a8f4-7565bce1bd4e"
      },
      "source": [
        "c_code = port(clf, classmap=classmap)\n",
        "print(c_code)"
      ],
      "execution_count": 136,
      "outputs": [
        {
          "output_type": "stream",
          "name": "stdout",
          "text": [
            "#pragma once\n",
            "#include <cstdarg>\n",
            "namespace Eloquent {\n",
            "    namespace ML {\n",
            "        namespace Port {\n",
            "            class SEFR {\n",
            "                public:\n",
            "                    /**\n",
            "                    * Predict class for features vector\n",
            "                    */\n",
            "                    int predict(float *x) {\n",
            "                        return dot(x,   -0.058489968919  , -0.056083812086  , -0.053455021645  , -0.091426224575  , -0.055563724607  , -0.037923365224  , -0.052383224726  , -0.042991786827  , -0.079121160187  , -0.058123423745  , -0.06924355523  , -0.043309116071  , -0.06032393108  , -0.075933702683  , -0.081973051514  , -0.063130544543  , -0.066982598634  , -0.096508001264  , -0.055951434558  , -0.102076425258  , -0.082859589735  , -0.080112492522  , -0.07354176818  , -0.022153483141  , -0.050141764875  , -0.153398431078  , -0.134863887294  , -0.109126065283  , -0.004010613665  , -0.18237116085  , -0.206643438565  , -0.165540514958  , -0.058690915401  , -0.106038381  , -0.092483647624  , -0.085609280103  , 0.039253158361  , -0.058035096202  , 0.003034200649  , 0.158830620685  , -0.040432440531  , 0.105344875617  , 0.163094785476  , -0.06715581162  , 0.012301347004  , 0.035313805178  , -0.063474353427  , 0.056919729797  , -0.081593782124  , -0.053281278592  , 0.069018267769  , -0.053977389118  , -0.047065946185  , 0.059423970934  , -0.080465831933  , 0.08109856088  , -0.054153177707  , 0.160185225179  , 0.035469032195  , 0.039898026018  , 0.022534985087  , 0.04040124402  , 0.040382533414  , -0.026372561696  , 0.010917180511  , 0.015441581846  , 0.02530105008  , 0.009091046685  , 0.003621343544  , 0.019864765488  , -0.014787020642  , -0.006484173152  , 0.010021584651  , -0.042366557742  , 0.033508023835  , -0.056116339917  , -0.076250709828  , -0.051154520827  , -0.047340819163  , -0.037021234833  , -0.026744226126  , -0.018094408068  , -0.076144303243  , -0.036794469034  , -0.075998380291  , -0.071616882446  , 0.005048941913  , -0.036413917058  , -0.045353705573  , -0.086286199254  , -0.011119657013  , -0.038606103664  , -0.013450228915  , -0.03884842879  , -0.069096206072  , -0.035356130044  , -0.050471519361  , -0.025068523741  , -0.044783199209  , -0.031442209256  , -0.050704559608  , -0.059116906373  , -0.070376397006  , -0.052865129821  , -0.057714449133  , -0.060680840365  , -0.062915980866  , -0.053988268072  , -0.061233632916  , -0.072554298481  , -0.080217387104  , -0.054307628489  , -0.049935056717  , -0.056457631919  , -0.051024761077  , -0.054313188256  , -0.0502162117  , -0.057465918173  , -0.053565731532  , -0.05836920771  , -0.055640759183  , -0.054605597098  , -0.057346285583  , -0.058350184884  , -0.055241685087  , -0.057586495695  , -0.05761832903  , -0.055357453467 ) <= -2.5584326482934956 ? 0 : 1;\n",
            "                    }\n",
            "\n",
            "                    /**\n",
            "                    * Predict readable class name\n",
            "                    */\n",
            "                    const char* predictLabel(float *x) {\n",
            "                        return idxToLabel(predict(x));\n",
            "                    }\n",
            "\n",
            "                    /**\n",
            "                    * Convert class idx to readable name\n",
            "                    */\n",
            "                    const char* idxToLabel(uint8_t classIdx) {\n",
            "                        switch (classIdx) {\n",
            "                            case 0:\n",
            "                            return \"on\";\n",
            "                            case 1:\n",
            "                            return \"off\";\n",
            "                            default:\n",
            "                            return \"Houston we have a problem\";\n",
            "                        }\n",
            "                    }\n",
            "\n",
            "                protected:\n",
            "                    /**\n",
            "                    * Compute dot product\n",
            "                    */\n",
            "                    float dot(float *x, ...) {\n",
            "                        va_list w;\n",
            "                        va_start(w, 128);\n",
            "                        float dot = 0.0;\n",
            "\n",
            "                        for (uint16_t i = 0; i < 128; i++) {\n",
            "                            const float wi = va_arg(w, double);\n",
            "                            dot += x[i] * wi;\n",
            "                        }\n",
            "\n",
            "                        return dot;\n",
            "                    }\n",
            "                };\n",
            "            }\n",
            "        }\n",
            "    }\n"
          ]
        }
      ]
    },
    {
      "cell_type": "code",
      "metadata": {
        "id": "-NajPuuZqTha"
      },
      "source": [
        ""
      ],
      "execution_count": null,
      "outputs": []
    }
  ]
}